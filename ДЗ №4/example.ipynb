{
 "cells": [
  {
   "cell_type": "code",
   "execution_count": 9,
   "id": "f33c3f10-4827-471d-8203-56bf32746e54",
   "metadata": {},
   "outputs": [],
   "source": [
    "import os\n",
    "from datetime import datetime\n",
    "\n",
    "import pandas as pd\n",
    "from feast import FeatureStore"
   ]
  },
  {
   "cell_type": "code",
   "execution_count": 35,
   "id": "a624fcb4-45c2-4a46-b4e6-d6ac877b1360",
   "metadata": {},
   "outputs": [],
   "source": [
    "raw_data_path = os.path.join(\"feature_store\", \"feature_repo\", \"data\", \"fraud_snap.parquet\")\n",
    "feature_store_path = os.path.join(\"feature_store\", \"feature_repo\")"
   ]
  },
  {
   "cell_type": "markdown",
   "id": "0d2e9c5c-413a-4915-9d79-9d79e25a6e1e",
   "metadata": {},
   "source": [
    "### Check data"
   ]
  },
  {
   "cell_type": "code",
   "execution_count": 36,
   "id": "900c6e18-5539-4b6a-bc62-8d1dcee1ace3",
   "metadata": {},
   "outputs": [],
   "source": [
    "df = pd.read_parquet(raw_data_path)"
   ]
  },
  {
   "cell_type": "code",
   "execution_count": 37,
   "id": "8b0998f9-98ba-4f2f-a59c-e388af9572c9",
   "metadata": {},
   "outputs": [
    {
     "data": {
      "text/html": [
       "<div>\n",
       "<style scoped>\n",
       "    .dataframe tbody tr th:only-of-type {\n",
       "        vertical-align: middle;\n",
       "    }\n",
       "\n",
       "    .dataframe tbody tr th {\n",
       "        vertical-align: top;\n",
       "    }\n",
       "\n",
       "    .dataframe thead th {\n",
       "        text-align: right;\n",
       "    }\n",
       "</style>\n",
       "<table border=\"1\" class=\"dataframe\">\n",
       "  <thead>\n",
       "    <tr style=\"text-align: right;\">\n",
       "      <th></th>\n",
       "      <th>transaction_id</th>\n",
       "      <th>customer_id</th>\n",
       "      <th>terminal_id</th>\n",
       "      <th>tx_amount</th>\n",
       "      <th>tx_time_seconds</th>\n",
       "      <th>tx_time_days</th>\n",
       "      <th>tx_fraud</th>\n",
       "      <th>tx_fraud_scenario</th>\n",
       "      <th>event_timestamp</th>\n",
       "    </tr>\n",
       "  </thead>\n",
       "  <tbody>\n",
       "    <tr>\n",
       "      <th>0</th>\n",
       "      <td>754390469</td>\n",
       "      <td>580415</td>\n",
       "      <td>482</td>\n",
       "      <td>14.62</td>\n",
       "      <td>41591913</td>\n",
       "      <td>481</td>\n",
       "      <td>0</td>\n",
       "      <td>0</td>\n",
       "      <td>2020-12-15</td>\n",
       "    </tr>\n",
       "    <tr>\n",
       "      <th>1</th>\n",
       "      <td>850147586</td>\n",
       "      <td>714424</td>\n",
       "      <td>609</td>\n",
       "      <td>4.76</td>\n",
       "      <td>46881604</td>\n",
       "      <td>542</td>\n",
       "      <td>0</td>\n",
       "      <td>0</td>\n",
       "      <td>2021-02-14</td>\n",
       "    </tr>\n",
       "    <tr>\n",
       "      <th>2</th>\n",
       "      <td>99398570</td>\n",
       "      <td>456435</td>\n",
       "      <td>97</td>\n",
       "      <td>6.79</td>\n",
       "      <td>5480127</td>\n",
       "      <td>63</td>\n",
       "      <td>0</td>\n",
       "      <td>0</td>\n",
       "      <td>2019-10-24</td>\n",
       "    </tr>\n",
       "    <tr>\n",
       "      <th>3</th>\n",
       "      <td>1855892968</td>\n",
       "      <td>745104</td>\n",
       "      <td>474</td>\n",
       "      <td>50.32</td>\n",
       "      <td>102332522</td>\n",
       "      <td>1184</td>\n",
       "      <td>0</td>\n",
       "      <td>0</td>\n",
       "      <td>2022-11-18</td>\n",
       "    </tr>\n",
       "    <tr>\n",
       "      <th>4</th>\n",
       "      <td>988815484</td>\n",
       "      <td>239221</td>\n",
       "      <td>980</td>\n",
       "      <td>13.50</td>\n",
       "      <td>54561150</td>\n",
       "      <td>631</td>\n",
       "      <td>0</td>\n",
       "      <td>0</td>\n",
       "      <td>2021-05-14</td>\n",
       "    </tr>\n",
       "  </tbody>\n",
       "</table>\n",
       "</div>"
      ],
      "text/plain": [
       "   transaction_id  customer_id  terminal_id  tx_amount  tx_time_seconds  \\\n",
       "0       754390469       580415          482      14.62         41591913   \n",
       "1       850147586       714424          609       4.76         46881604   \n",
       "2        99398570       456435           97       6.79          5480127   \n",
       "3      1855892968       745104          474      50.32        102332522   \n",
       "4       988815484       239221          980      13.50         54561150   \n",
       "\n",
       "   tx_time_days  tx_fraud  tx_fraud_scenario event_timestamp  \n",
       "0           481         0                  0      2020-12-15  \n",
       "1           542         0                  0      2021-02-14  \n",
       "2            63         0                  0      2019-10-24  \n",
       "3          1184         0                  0      2022-11-18  \n",
       "4           631         0                  0      2021-05-14  "
      ]
     },
     "execution_count": 37,
     "metadata": {},
     "output_type": "execute_result"
    }
   ],
   "source": [
    "df.head(5)"
   ]
  },
  {
   "cell_type": "code",
   "execution_count": 13,
   "id": "f3449c0a",
   "metadata": {},
   "outputs": [
    {
     "data": {
      "text/plain": [
       "(100000, 9)"
      ]
     },
     "execution_count": 13,
     "metadata": {},
     "output_type": "execute_result"
    }
   ],
   "source": [
    "df.shape"
   ]
  },
  {
   "cell_type": "code",
   "execution_count": 38,
   "id": "b37e853f",
   "metadata": {},
   "outputs": [
    {
     "name": "stdout",
     "output_type": "stream",
     "text": [
      "<class 'pandas.core.frame.DataFrame'>\n",
      "RangeIndex: 100000 entries, 0 to 99999\n",
      "Data columns (total 9 columns):\n",
      " #   Column             Non-Null Count   Dtype         \n",
      "---  ------             --------------   -----         \n",
      " 0   transaction_id     100000 non-null  int32         \n",
      " 1   customer_id        100000 non-null  int32         \n",
      " 2   terminal_id        100000 non-null  int32         \n",
      " 3   tx_amount          100000 non-null  float32       \n",
      " 4   tx_time_seconds    100000 non-null  int32         \n",
      " 5   tx_time_days       100000 non-null  int32         \n",
      " 6   tx_fraud           100000 non-null  int32         \n",
      " 7   tx_fraud_scenario  100000 non-null  int32         \n",
      " 8   event_timestamp    100000 non-null  datetime64[ns]\n",
      "dtypes: datetime64[ns](1), float32(1), int32(7)\n",
      "memory usage: 3.8 MB\n"
     ]
    }
   ],
   "source": [
    "df.info()"
   ]
  },
  {
   "cell_type": "markdown",
   "id": "8765696b-10fb-40f2-ab9f-57f08f747a8d",
   "metadata": {},
   "source": [
    "### Features inference"
   ]
  },
  {
   "cell_type": "code",
   "execution_count": 62,
   "id": "902f97c8-ce54-4741-ba3d-51366453ca73",
   "metadata": {},
   "outputs": [],
   "source": [
    "entity_df = pd.DataFrame.from_dict(\n",
    "    {\n",
    "        # entity's join key -> entity values\n",
    "        \"customer_id\": [580415, 456435],\n",
    "        # \"event_timestamp\" (reserved key) -> timestamps\n",
    "        \"event_timestamp\": [\n",
    "            datetime(2020, 12, 15),\n",
    "            datetime(2019, 10, 24)\n",
    "        ],\n",
    "        # (optional) label name -> label values. Feast does not process these\n",
    "        \"label_driver_reported_satisfaction\": [1, 2],\n",
    "    }\n",
    ")\n",
    "\n",
    "# Преобразуем типы после создания DataFrame\n",
    "entity_df[\"customer_id\"] = entity_df[\"customer_id\"].astype(\"int32\")\n",
    "entity_df[\"label_driver_reported_satisfaction\"] = entity_df[\"label_driver_reported_satisfaction\"].astype(\"int8\")"
   ]
  },
  {
   "cell_type": "code",
   "execution_count": 63,
   "id": "9cd2cb33-2764-4467-847d-e55cc0f07084",
   "metadata": {},
   "outputs": [
    {
     "data": {
      "text/html": [
       "<div>\n",
       "<style scoped>\n",
       "    .dataframe tbody tr th:only-of-type {\n",
       "        vertical-align: middle;\n",
       "    }\n",
       "\n",
       "    .dataframe tbody tr th {\n",
       "        vertical-align: top;\n",
       "    }\n",
       "\n",
       "    .dataframe thead th {\n",
       "        text-align: right;\n",
       "    }\n",
       "</style>\n",
       "<table border=\"1\" class=\"dataframe\">\n",
       "  <thead>\n",
       "    <tr style=\"text-align: right;\">\n",
       "      <th></th>\n",
       "      <th>customer_id</th>\n",
       "      <th>event_timestamp</th>\n",
       "      <th>label_driver_reported_satisfaction</th>\n",
       "    </tr>\n",
       "  </thead>\n",
       "  <tbody>\n",
       "    <tr>\n",
       "      <th>0</th>\n",
       "      <td>580415</td>\n",
       "      <td>2020-12-15</td>\n",
       "      <td>1</td>\n",
       "    </tr>\n",
       "    <tr>\n",
       "      <th>1</th>\n",
       "      <td>456435</td>\n",
       "      <td>2019-10-24</td>\n",
       "      <td>2</td>\n",
       "    </tr>\n",
       "  </tbody>\n",
       "</table>\n",
       "</div>"
      ],
      "text/plain": [
       "   customer_id event_timestamp  label_driver_reported_satisfaction\n",
       "0       580415      2020-12-15                                   1\n",
       "1       456435      2019-10-24                                   2"
      ]
     },
     "execution_count": 63,
     "metadata": {},
     "output_type": "execute_result"
    }
   ],
   "source": [
    "entity_df"
   ]
  },
  {
   "cell_type": "code",
   "execution_count": 64,
   "id": "4d2ebd81",
   "metadata": {},
   "outputs": [
    {
     "name": "stdout",
     "output_type": "stream",
     "text": [
      "<class 'pandas.core.frame.DataFrame'>\n",
      "RangeIndex: 2 entries, 0 to 1\n",
      "Data columns (total 3 columns):\n",
      " #   Column                              Non-Null Count  Dtype         \n",
      "---  ------                              --------------  -----         \n",
      " 0   customer_id                         2 non-null      int32         \n",
      " 1   event_timestamp                     2 non-null      datetime64[ns]\n",
      " 2   label_driver_reported_satisfaction  2 non-null      int8          \n",
      "dtypes: datetime64[ns](1), int32(1), int8(1)\n",
      "memory usage: 158.0 bytes\n"
     ]
    }
   ],
   "source": [
    "entity_df.info()"
   ]
  },
  {
   "cell_type": "code",
   "execution_count": 103,
   "id": "b24e1ed1-b6ac-43ec-b881-732671b57c69",
   "metadata": {},
   "outputs": [],
   "source": [
    "store = FeatureStore(repo_path=feature_store_path)"
   ]
  },
  {
   "cell_type": "code",
   "execution_count": 66,
   "id": "077dc5fb-26ac-4ab5-b1bc-e379ee2164cf",
   "metadata": {},
   "outputs": [
    {
     "name": "stderr",
     "output_type": "stream",
     "text": [
      "WARNING:root:_list_feature_views will make breaking changes. Please use _list_batch_feature_views instead. _list_feature_views will behave like _list_all_feature_views in the future.\n"
     ]
    },
    {
     "name": "stdout",
     "output_type": "stream",
     "text": [
      "----- Feature schema -----\n",
      "\n",
      "<class 'pandas.core.frame.DataFrame'>\n",
      "RangeIndex: 2 entries, 0 to 1\n",
      "Data columns (total 5 columns):\n",
      " #   Column                              Non-Null Count  Dtype              \n",
      "---  ------                              --------------  -----              \n",
      " 0   customer_id                         2 non-null      int32              \n",
      " 1   event_timestamp                     2 non-null      datetime64[ns, UTC]\n",
      " 2   label_driver_reported_satisfaction  2 non-null      int8               \n",
      " 3   transaction_id                      2 non-null      int32              \n",
      " 4   terminal_id                         2 non-null      int32              \n",
      "dtypes: datetime64[ns, UTC](1), int32(3), int8(1)\n",
      "memory usage: 174.0 bytes\n",
      "None\n"
     ]
    }
   ],
   "source": [
    "training_df = store.get_historical_features(\n",
    "    entity_df=entity_df,\n",
    "    features=[\n",
    "        \"driver_daily_transaction:transaction_id\",\n",
    "        \"driver_daily_transaction:terminal_id\",\n",
    "    ],\n",
    ").to_df()\n",
    "\n",
    "print(\"----- Feature schema -----\\n\")\n",
    "print(training_df.info())"
   ]
  },
  {
   "cell_type": "code",
   "execution_count": 67,
   "id": "cfeee199-39e6-4d19-8656-f4a4401d8723",
   "metadata": {},
   "outputs": [
    {
     "data": {
      "text/html": [
       "<div>\n",
       "<style scoped>\n",
       "    .dataframe tbody tr th:only-of-type {\n",
       "        vertical-align: middle;\n",
       "    }\n",
       "\n",
       "    .dataframe tbody tr th {\n",
       "        vertical-align: top;\n",
       "    }\n",
       "\n",
       "    .dataframe thead th {\n",
       "        text-align: right;\n",
       "    }\n",
       "</style>\n",
       "<table border=\"1\" class=\"dataframe\">\n",
       "  <thead>\n",
       "    <tr style=\"text-align: right;\">\n",
       "      <th></th>\n",
       "      <th>customer_id</th>\n",
       "      <th>event_timestamp</th>\n",
       "      <th>label_driver_reported_satisfaction</th>\n",
       "      <th>transaction_id</th>\n",
       "      <th>terminal_id</th>\n",
       "    </tr>\n",
       "  </thead>\n",
       "  <tbody>\n",
       "    <tr>\n",
       "      <th>0</th>\n",
       "      <td>456435</td>\n",
       "      <td>2019-10-24 00:00:00+00:00</td>\n",
       "      <td>2</td>\n",
       "      <td>99398570</td>\n",
       "      <td>97</td>\n",
       "    </tr>\n",
       "    <tr>\n",
       "      <th>1</th>\n",
       "      <td>580415</td>\n",
       "      <td>2020-12-15 00:00:00+00:00</td>\n",
       "      <td>1</td>\n",
       "      <td>754390469</td>\n",
       "      <td>482</td>\n",
       "    </tr>\n",
       "  </tbody>\n",
       "</table>\n",
       "</div>"
      ],
      "text/plain": [
       "   customer_id           event_timestamp  label_driver_reported_satisfaction  \\\n",
       "0       456435 2019-10-24 00:00:00+00:00                                   2   \n",
       "1       580415 2020-12-15 00:00:00+00:00                                   1   \n",
       "\n",
       "   transaction_id  terminal_id  \n",
       "0        99398570           97  \n",
       "1       754390469          482  "
      ]
     },
     "execution_count": 67,
     "metadata": {},
     "output_type": "execute_result"
    }
   ],
   "source": [
    "training_df.head()"
   ]
  },
  {
   "cell_type": "markdown",
   "id": "ca95b6a0-57d1-4fb0-8190-c93cd82e1f36",
   "metadata": {},
   "source": [
    "### Features View - on demand"
   ]
  },
  {
   "cell_type": "code",
   "execution_count": 86,
   "id": "8682dd22-31be-4e71-a672-d558be69078e",
   "metadata": {},
   "outputs": [],
   "source": [
    "entity_df = pd.DataFrame.from_dict(\n",
    "    {\n",
    "        # entity's join key -> entity values\n",
    "        \"customer_id\": [580415, 456435],\n",
    "        # \"event_timestamp\" (reserved key) -> timestamps\n",
    "        \"event_timestamp\": [\n",
    "            datetime(2020, 12, 15),\n",
    "            datetime(2019, 10, 24)\n",
    "        ],\n",
    "        # (optional) label name -> label values. Feast does not process these\n",
    "        \"label_driver_reported_satisfaction\": [1, 2],\n",
    "        # values we're using for an on-demand transformation\n",
    "        \"val_to_add\": [1, 2],\n",
    "        \"val_to_add_2\": [10, 30],\n",
    "    }\n",
    ")\n",
    "\n",
    "# Преобразуем типы после создания DataFrame\n",
    "entity_df[\"customer_id\"] = entity_df[\"customer_id\"].astype(\"int32\")"
   ]
  },
  {
   "cell_type": "code",
   "execution_count": 87,
   "id": "5361584f",
   "metadata": {},
   "outputs": [
    {
     "data": {
      "text/html": [
       "<div>\n",
       "<style scoped>\n",
       "    .dataframe tbody tr th:only-of-type {\n",
       "        vertical-align: middle;\n",
       "    }\n",
       "\n",
       "    .dataframe tbody tr th {\n",
       "        vertical-align: top;\n",
       "    }\n",
       "\n",
       "    .dataframe thead th {\n",
       "        text-align: right;\n",
       "    }\n",
       "</style>\n",
       "<table border=\"1\" class=\"dataframe\">\n",
       "  <thead>\n",
       "    <tr style=\"text-align: right;\">\n",
       "      <th></th>\n",
       "      <th>customer_id</th>\n",
       "      <th>event_timestamp</th>\n",
       "      <th>label_driver_reported_satisfaction</th>\n",
       "      <th>val_to_add</th>\n",
       "      <th>val_to_add_2</th>\n",
       "    </tr>\n",
       "  </thead>\n",
       "  <tbody>\n",
       "    <tr>\n",
       "      <th>0</th>\n",
       "      <td>580415</td>\n",
       "      <td>2020-12-15</td>\n",
       "      <td>1</td>\n",
       "      <td>1</td>\n",
       "      <td>10</td>\n",
       "    </tr>\n",
       "    <tr>\n",
       "      <th>1</th>\n",
       "      <td>456435</td>\n",
       "      <td>2019-10-24</td>\n",
       "      <td>2</td>\n",
       "      <td>2</td>\n",
       "      <td>30</td>\n",
       "    </tr>\n",
       "  </tbody>\n",
       "</table>\n",
       "</div>"
      ],
      "text/plain": [
       "   customer_id event_timestamp  label_driver_reported_satisfaction  \\\n",
       "0       580415      2020-12-15                                   1   \n",
       "1       456435      2019-10-24                                   2   \n",
       "\n",
       "   val_to_add  val_to_add_2  \n",
       "0           1            10  \n",
       "1           2            30  "
      ]
     },
     "execution_count": 87,
     "metadata": {},
     "output_type": "execute_result"
    }
   ],
   "source": [
    "entity_df.head(5)"
   ]
  },
  {
   "cell_type": "code",
   "execution_count": 94,
   "id": "b0883583-6c34-4aeb-af77-b47867d689aa",
   "metadata": {},
   "outputs": [
    {
     "name": "stderr",
     "output_type": "stream",
     "text": [
      "WARNING:root:_list_feature_views will make breaking changes. Please use _list_batch_feature_views instead. _list_feature_views will behave like _list_all_feature_views in the future.\n"
     ]
    }
   ],
   "source": [
    "training_df = store.get_historical_features(\n",
    "    entity_df=entity_df,\n",
    "    features=[\n",
    "        \"driver_daily_transaction:transaction_id\",\n",
    "        \"driver_daily_transaction:terminal_id\",\n",
    "        \"driver_daily_transaction:tx_amount\",\n",
    "        \"driver_daily_transaction:tx_fraud\",\n",
    "        \"driver_daily_transaction:tx_fraud_scenario\",\n",
    "        \"compute_avg_tx_amount_last_7d:avg_tx_amount_last_7d\",\n",
    "    ],\n",
    ").to_df()"
   ]
  },
  {
   "cell_type": "code",
   "execution_count": 95,
   "id": "25b2f0f1-fcd6-4bcc-84c2-9daf381230fc",
   "metadata": {},
   "outputs": [
    {
     "data": {
      "text/html": [
       "<div>\n",
       "<style scoped>\n",
       "    .dataframe tbody tr th:only-of-type {\n",
       "        vertical-align: middle;\n",
       "    }\n",
       "\n",
       "    .dataframe tbody tr th {\n",
       "        vertical-align: top;\n",
       "    }\n",
       "\n",
       "    .dataframe thead th {\n",
       "        text-align: right;\n",
       "    }\n",
       "</style>\n",
       "<table border=\"1\" class=\"dataframe\">\n",
       "  <thead>\n",
       "    <tr style=\"text-align: right;\">\n",
       "      <th></th>\n",
       "      <th>customer_id</th>\n",
       "      <th>event_timestamp</th>\n",
       "      <th>label_driver_reported_satisfaction</th>\n",
       "      <th>val_to_add</th>\n",
       "      <th>val_to_add_2</th>\n",
       "      <th>transaction_id</th>\n",
       "      <th>terminal_id</th>\n",
       "      <th>tx_amount</th>\n",
       "      <th>tx_fraud</th>\n",
       "      <th>tx_fraud_scenario</th>\n",
       "      <th>avg_tx_amount_last_7d</th>\n",
       "    </tr>\n",
       "  </thead>\n",
       "  <tbody>\n",
       "    <tr>\n",
       "      <th>0</th>\n",
       "      <td>456435</td>\n",
       "      <td>2019-10-24 00:00:00+00:00</td>\n",
       "      <td>2</td>\n",
       "      <td>2</td>\n",
       "      <td>30</td>\n",
       "      <td>99398570</td>\n",
       "      <td>97</td>\n",
       "      <td>6.79</td>\n",
       "      <td>0</td>\n",
       "      <td>0</td>\n",
       "      <td>NaN</td>\n",
       "    </tr>\n",
       "    <tr>\n",
       "      <th>1</th>\n",
       "      <td>580415</td>\n",
       "      <td>2020-12-15 00:00:00+00:00</td>\n",
       "      <td>1</td>\n",
       "      <td>1</td>\n",
       "      <td>10</td>\n",
       "      <td>754390469</td>\n",
       "      <td>482</td>\n",
       "      <td>14.62</td>\n",
       "      <td>0</td>\n",
       "      <td>0</td>\n",
       "      <td>NaN</td>\n",
       "    </tr>\n",
       "  </tbody>\n",
       "</table>\n",
       "</div>"
      ],
      "text/plain": [
       "   customer_id           event_timestamp  label_driver_reported_satisfaction  \\\n",
       "0       456435 2019-10-24 00:00:00+00:00                                   2   \n",
       "1       580415 2020-12-15 00:00:00+00:00                                   1   \n",
       "\n",
       "   val_to_add  val_to_add_2  transaction_id  terminal_id  tx_amount  tx_fraud  \\\n",
       "0           2            30        99398570           97       6.79         0   \n",
       "1           1            10       754390469          482      14.62         0   \n",
       "\n",
       "   tx_fraud_scenario  avg_tx_amount_last_7d  \n",
       "0                  0                    NaN  \n",
       "1                  0                    NaN  "
      ]
     },
     "execution_count": 95,
     "metadata": {},
     "output_type": "execute_result"
    }
   ],
   "source": [
    "training_df"
   ]
  },
  {
   "cell_type": "markdown",
   "id": "b1a31134",
   "metadata": {},
   "source": [
    "Перед тем как обратиться за онлайн-фичами, необходимо их перелить из офлайн-хранилища в онлайн-хранилище.\n",
    "Это можно сделать инкрементно с помощью функции `poetry run feast materialize-incremental $(date -u +\"%Y-%m-%dT%H:%M:%S\")` - это зальет данные с момента последней материализации до текущего времени. Или по дипазаону дат например: `poetry run feast materialize 2020-01-01T00:00:00 2020-12-31T23:59:59`."
   ]
  },
  {
   "cell_type": "code",
   "execution_count": 105,
   "id": "a807cc88",
   "metadata": {},
   "outputs": [
    {
     "name": "stderr",
     "output_type": "stream",
     "text": [
      "WARNING:root:_list_feature_views will make breaking changes. Please use _list_batch_feature_views instead. _list_feature_views will behave like _list_all_feature_views in the future.\n"
     ]
    },
    {
     "name": "stdout",
     "output_type": "stream",
     "text": [
      "Online features for cutomers 580415, 456435:\n",
      "customer_id: [580415, 456435]\n",
      "tx_amount: [14.619999885559082, None]\n",
      "terminal_id: [482, None]\n",
      "transaction_id: [754390469, None]\n"
     ]
    }
   ],
   "source": [
    "# Online feature retrieval\n",
    "online_features = store.get_online_features(\n",
    "    features=[\n",
    "        \"driver_daily_transaction:transaction_id\",\n",
    "        \"driver_daily_transaction:terminal_id\",\n",
    "        \"driver_daily_transaction:tx_amount\",\n",
    "    ],\n",
    "    entity_rows=[\n",
    "        {\"customer_id\": 580415}, \n",
    "        {\"customer_id\": 456435}\n",
    "    ],\n",
    ").to_dict()\n",
    "\n",
    "print(\"Online features for cutomers 580415, 456435:\")\n",
    "for key, value in online_features.items():\n",
    "    print(f\"{key}: {value}\")"
   ]
  },
  {
   "cell_type": "code",
   "execution_count": 115,
   "id": "359714a2",
   "metadata": {},
   "outputs": [
    {
     "name": "stdout",
     "output_type": "stream",
     "text": [
      "['terminal_id', 'transaction_id', 'tx_fraud_plus_val1', 'tx_fraud_scenario_plus_val2']\n"
     ]
    }
   ],
   "source": [
    "feature_service = store.get_feature_service(\"daily_transaction_v1\")\n",
    "\n",
    "# Получаем список фич из FeatureService\n",
    "features = [f.name for fv in feature_service.feature_view_projections for f in fv.features]\n",
    "\n",
    "print(features)"
   ]
  },
  {
   "cell_type": "code",
   "execution_count": 116,
   "id": "800bbc4d",
   "metadata": {},
   "outputs": [
    {
     "name": "stderr",
     "output_type": "stream",
     "text": [
      "WARNING:root:_list_feature_views will make breaking changes. Please use _list_batch_feature_views instead. _list_feature_views will behave like _list_all_feature_views in the future.\n"
     ]
    },
    {
     "name": "stdout",
     "output_type": "stream",
     "text": [
      "\n",
      "Features from daily_transaction_v1 service:\n"
     ]
    },
    {
     "data": {
      "text/html": [
       "<div>\n",
       "<style scoped>\n",
       "    .dataframe tbody tr th:only-of-type {\n",
       "        vertical-align: middle;\n",
       "    }\n",
       "\n",
       "    .dataframe tbody tr th {\n",
       "        vertical-align: top;\n",
       "    }\n",
       "\n",
       "    .dataframe thead th {\n",
       "        text-align: right;\n",
       "    }\n",
       "</style>\n",
       "<table border=\"1\" class=\"dataframe\">\n",
       "  <thead>\n",
       "    <tr style=\"text-align: right;\">\n",
       "      <th></th>\n",
       "      <th>customer_id</th>\n",
       "      <th>event_timestamp</th>\n",
       "      <th>label_driver_reported_satisfaction</th>\n",
       "      <th>val_to_add</th>\n",
       "      <th>val_to_add_2</th>\n",
       "      <th>transaction_id</th>\n",
       "      <th>terminal_id</th>\n",
       "      <th>tx_amount</th>\n",
       "      <th>tx_time_seconds</th>\n",
       "      <th>tx_time_days</th>\n",
       "      <th>tx_fraud</th>\n",
       "      <th>tx_fraud_scenario</th>\n",
       "      <th>tx_fraud_plus_val1</th>\n",
       "      <th>tx_fraud_scenario_plus_val2</th>\n",
       "    </tr>\n",
       "  </thead>\n",
       "  <tbody>\n",
       "    <tr>\n",
       "      <th>0</th>\n",
       "      <td>456435</td>\n",
       "      <td>2019-10-24 00:00:00+00:00</td>\n",
       "      <td>2</td>\n",
       "      <td>2</td>\n",
       "      <td>30</td>\n",
       "      <td>99398570</td>\n",
       "      <td>97</td>\n",
       "      <td>6.79</td>\n",
       "      <td>5480127</td>\n",
       "      <td>63</td>\n",
       "      <td>0</td>\n",
       "      <td>0</td>\n",
       "      <td>2</td>\n",
       "      <td>30</td>\n",
       "    </tr>\n",
       "    <tr>\n",
       "      <th>1</th>\n",
       "      <td>580415</td>\n",
       "      <td>2020-12-15 00:00:00+00:00</td>\n",
       "      <td>1</td>\n",
       "      <td>1</td>\n",
       "      <td>10</td>\n",
       "      <td>754390469</td>\n",
       "      <td>482</td>\n",
       "      <td>14.62</td>\n",
       "      <td>41591913</td>\n",
       "      <td>481</td>\n",
       "      <td>0</td>\n",
       "      <td>0</td>\n",
       "      <td>1</td>\n",
       "      <td>10</td>\n",
       "    </tr>\n",
       "  </tbody>\n",
       "</table>\n",
       "</div>"
      ],
      "text/plain": [
       "   customer_id           event_timestamp  label_driver_reported_satisfaction  \\\n",
       "0       456435 2019-10-24 00:00:00+00:00                                   2   \n",
       "1       580415 2020-12-15 00:00:00+00:00                                   1   \n",
       "\n",
       "   val_to_add  val_to_add_2  transaction_id  terminal_id  tx_amount  \\\n",
       "0           2            30        99398570           97       6.79   \n",
       "1           1            10       754390469          482      14.62   \n",
       "\n",
       "   tx_time_seconds  tx_time_days  tx_fraud  tx_fraud_scenario  \\\n",
       "0          5480127            63         0                  0   \n",
       "1         41591913           481         0                  0   \n",
       "\n",
       "   tx_fraud_plus_val1  tx_fraud_scenario_plus_val2  \n",
       "0                   2                           30  \n",
       "1                   1                           10  "
      ]
     },
     "execution_count": 116,
     "metadata": {},
     "output_type": "execute_result"
    }
   ],
   "source": [
    "# Using Feature Service for consistent feature sets\n",
    "training_df_v1 = store.get_historical_features(\n",
    "    entity_df=entity_df,\n",
    "    features=store.get_feature_service(\"transaction_activity_v2\")\n",
    ").to_df()\n",
    "\n",
    "print(\"\\nFeatures from daily_transaction_v1 service:\")\n",
    "training_df_v1.head()"
   ]
  },
  {
   "cell_type": "code",
   "execution_count": 118,
   "id": "09e156f1",
   "metadata": {},
   "outputs": [
    {
     "name": "stdout",
     "output_type": "stream",
     "text": [
      "\n",
      "Feature view metadata:\n",
      "Name: driver_daily_transaction\n",
      "Entities: ['customer_id']\n",
      "TTL: 30 days, 0:00:00\n",
      "Online: True\n",
      "Features: ['transaction_id', 'terminal_id', 'tx_amount', 'tx_time_seconds', 'tx_time_days', 'tx_fraud', 'tx_fraud_scenario']\n"
     ]
    }
   ],
   "source": [
    "# Get feature view metadata\n",
    "feature_view = store.get_feature_view(\"driver_daily_transaction\")\n",
    "print(\"\\nFeature view metadata:\")\n",
    "print(f\"Name: {feature_view.name}\")\n",
    "print(f\"Entities: {feature_view.entities}\")\n",
    "print(f\"TTL: {feature_view.ttl}\")\n",
    "print(f\"Online: {feature_view.online}\")\n",
    "print(f\"Features: {[f.name for f in feature_view.features]}\")"
   ]
  },
  {
   "cell_type": "code",
   "execution_count": 119,
   "id": "25f384d6",
   "metadata": {},
   "outputs": [
    {
     "name": "stderr",
     "output_type": "stream",
     "text": [
      "WARNING:root:_list_feature_views will make breaking changes. Please use _list_batch_feature_views instead. _list_feature_views will behave like _list_all_feature_views in the future.\n"
     ]
    },
    {
     "name": "stdout",
     "output_type": "stream",
     "text": [
      "\n",
      "Features from driver_activity_v4 service:\n"
     ]
    },
    {
     "data": {
      "text/html": [
       "<div>\n",
       "<style scoped>\n",
       "    .dataframe tbody tr th:only-of-type {\n",
       "        vertical-align: middle;\n",
       "    }\n",
       "\n",
       "    .dataframe tbody tr th {\n",
       "        vertical-align: top;\n",
       "    }\n",
       "\n",
       "    .dataframe thead th {\n",
       "        text-align: right;\n",
       "    }\n",
       "</style>\n",
       "<table border=\"1\" class=\"dataframe\">\n",
       "  <thead>\n",
       "    <tr style=\"text-align: right;\">\n",
       "      <th></th>\n",
       "      <th>customer_id</th>\n",
       "      <th>event_timestamp</th>\n",
       "      <th>label_driver_reported_satisfaction</th>\n",
       "      <th>val_to_add</th>\n",
       "      <th>val_to_add_2</th>\n",
       "      <th>transaction_id</th>\n",
       "      <th>terminal_id</th>\n",
       "      <th>tx_amount</th>\n",
       "      <th>tx_time_seconds</th>\n",
       "      <th>tx_time_days</th>\n",
       "      <th>tx_fraud</th>\n",
       "      <th>tx_fraud_scenario</th>\n",
       "      <th>combined_time</th>\n",
       "    </tr>\n",
       "  </thead>\n",
       "  <tbody>\n",
       "    <tr>\n",
       "      <th>0</th>\n",
       "      <td>456435</td>\n",
       "      <td>2019-10-24 00:00:00+00:00</td>\n",
       "      <td>2</td>\n",
       "      <td>2</td>\n",
       "      <td>30</td>\n",
       "      <td>99398570</td>\n",
       "      <td>97</td>\n",
       "      <td>6.79</td>\n",
       "      <td>5480127</td>\n",
       "      <td>63</td>\n",
       "      <td>0</td>\n",
       "      <td>0</td>\n",
       "      <td>2192088.6</td>\n",
       "    </tr>\n",
       "    <tr>\n",
       "      <th>1</th>\n",
       "      <td>580415</td>\n",
       "      <td>2020-12-15 00:00:00+00:00</td>\n",
       "      <td>1</td>\n",
       "      <td>1</td>\n",
       "      <td>10</td>\n",
       "      <td>754390469</td>\n",
       "      <td>482</td>\n",
       "      <td>14.62</td>\n",
       "      <td>41591913</td>\n",
       "      <td>481</td>\n",
       "      <td>0</td>\n",
       "      <td>0</td>\n",
       "      <td>16637053.8</td>\n",
       "    </tr>\n",
       "  </tbody>\n",
       "</table>\n",
       "</div>"
      ],
      "text/plain": [
       "   customer_id           event_timestamp  label_driver_reported_satisfaction  \\\n",
       "0       456435 2019-10-24 00:00:00+00:00                                   2   \n",
       "1       580415 2020-12-15 00:00:00+00:00                                   1   \n",
       "\n",
       "   val_to_add  val_to_add_2  transaction_id  terminal_id  tx_amount  \\\n",
       "0           2            30        99398570           97       6.79   \n",
       "1           1            10       754390469          482      14.62   \n",
       "\n",
       "   tx_time_seconds  tx_time_days  tx_fraud  tx_fraud_scenario  combined_time  \n",
       "0          5480127            63         0                  0      2192088.6  \n",
       "1         41591913           481         0                  0     16637053.8  "
      ]
     },
     "execution_count": 119,
     "metadata": {},
     "output_type": "execute_result"
    }
   ],
   "source": [
    "# Using Feature Service for consistent feature sets\n",
    "training_df_v4 = store.get_historical_features(\n",
    "    entity_df=entity_df,\n",
    "    features=store.get_feature_service(\"transaction_activity_v4\")\n",
    ").to_df()\n",
    "\n",
    "print(\"\\nFeatures from driver_activity_v4 service:\")\n",
    "training_df_v4.head()"
   ]
  },
  {
   "cell_type": "code",
   "execution_count": null,
   "id": "eda9cfc1",
   "metadata": {},
   "outputs": [],
   "source": []
  }
 ],
 "metadata": {
  "kernelspec": {
   "display_name": ".venv",
   "language": "python",
   "name": "python3"
  },
  "language_info": {
   "codemirror_mode": {
    "name": "ipython",
    "version": 3
   },
   "file_extension": ".py",
   "mimetype": "text/x-python",
   "name": "python",
   "nbconvert_exporter": "python",
   "pygments_lexer": "ipython3",
   "version": "3.11.9"
  }
 },
 "nbformat": 4,
 "nbformat_minor": 5
}
