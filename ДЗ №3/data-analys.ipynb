{
 "cells": [
  {
   "cell_type": "code",
   "execution_count": 1,
   "id": "7e5744d7",
   "metadata": {},
   "outputs": [],
   "source": [
    "#!pip install findspark\n",
    "\n",
    "import findspark\n",
    "findspark.init()\n",
    "import warnings\n",
    "import pyspark\n",
    "from pyspark.sql.types import IntegerType, FloatType, DateType, StringType\n",
    "import pyspark.sql.functions as F"
   ]
  },
  {
   "cell_type": "code",
   "execution_count": 2,
   "id": "3013acea",
   "metadata": {},
   "outputs": [],
   "source": [
    "warnings.filterwarnings('ignore')\n",
    "spark_ui_port = 4040\n",
    "app_name = \"Otus_DZ_3\""
   ]
  },
  {
   "cell_type": "code",
   "execution_count": 3,
   "id": "144a0dd4",
   "metadata": {},
   "outputs": [],
   "source": [
    "spark = (\n",
    "    pyspark.sql.SparkSession\n",
    "        .builder\n",
    "        .appName(app_name)\n",
    "        .config(\"spark.driver.memory\", \"4g\") \n",
    "        .config(\"spark.executor.memory\", \"4g\")   # 8 ГБ для executor\n",
    "        .config(\"spark.executor.cores\", \"2\")    # 2 ядра на executor\n",
    "        .config(\"spark.executor.instances\", \"6\")   # 2 executor\n",
    "        .getOrCreate()\n",
    ")\n",
    "spark.conf.set('spark.sql.repl.eagerEval.enabled', True)  # to pretty print pyspark.DataFrame in jupyter"
   ]
  },
  {
   "cell_type": "code",
   "execution_count": 4,
   "id": "bc024364",
   "metadata": {},
   "outputs": [
    {
     "data": {
      "text/html": [
       "\n",
       "            <div>\n",
       "                <p><b>SparkSession - in-memory</b></p>\n",
       "                \n",
       "        <div>\n",
       "            <p><b>SparkContext</b></p>\n",
       "\n",
       "            <p><a href=\"http://rc1b-dataproc-m-7hc5anr1vm53s3c4.mdb.yandexcloud.net:4040\">Spark UI</a></p>\n",
       "\n",
       "            <dl>\n",
       "              <dt>Version</dt>\n",
       "                <dd><code>v3.0.3</code></dd>\n",
       "              <dt>Master</dt>\n",
       "                <dd><code>yarn</code></dd>\n",
       "              <dt>AppName</dt>\n",
       "                <dd><code>Otus_DZ_3</code></dd>\n",
       "            </dl>\n",
       "        </div>\n",
       "        \n",
       "            </div>\n",
       "        "
      ],
      "text/plain": [
       "<pyspark.sql.session.SparkSession at 0x7f40fcb631c0>"
      ]
     },
     "execution_count": 4,
     "metadata": {},
     "output_type": "execute_result"
    }
   ],
   "source": [
    "spark"
   ]
  },
  {
   "cell_type": "code",
   "execution_count": 5,
   "id": "17a0fde5",
   "metadata": {},
   "outputs": [],
   "source": [
    "data_text = spark.read.format(\"text\").load(\"data/*.txt\")"
   ]
  },
  {
   "cell_type": "code",
   "execution_count": 6,
   "id": "46582d63",
   "metadata": {},
   "outputs": [
    {
     "name": "stdout",
     "output_type": "stream",
     "text": [
      "+--------------------+\n",
      "|               value|\n",
      "+--------------------+\n",
      "|# tranaction_id |...|\n",
      "|0,2019-08-22 06:5...|\n",
      "|1,2019-08-22 05:1...|\n",
      "|2,2019-08-22 19:0...|\n",
      "|3,2019-08-22 07:2...|\n",
      "+--------------------+\n",
      "only showing top 5 rows\n",
      "\n"
     ]
    }
   ],
   "source": [
    "data_text.show(5)"
   ]
  },
  {
   "cell_type": "code",
   "execution_count": 7,
   "id": "0c68c813",
   "metadata": {},
   "outputs": [],
   "source": [
    "# Извлечение заголовков\n",
    "header = data_text.filter(data_text.value.startswith(\"#\")).first()[0]\n",
    "columns = header[2:].split(\" | \")"
   ]
  },
  {
   "cell_type": "code",
   "execution_count": 8,
   "id": "7894b5c2",
   "metadata": {},
   "outputs": [
    {
     "data": {
      "text/plain": [
       "['tranaction_id',\n",
       " 'tx_datetime',\n",
       " 'customer_id',\n",
       " 'terminal_id',\n",
       " 'tx_amount',\n",
       " 'tx_time_seconds',\n",
       " 'tx_time_days',\n",
       " 'tx_fraud',\n",
       " 'tx_fraud_scenario']"
      ]
     },
     "execution_count": 8,
     "metadata": {},
     "output_type": "execute_result"
    }
   ],
   "source": [
    "columns"
   ]
  },
  {
   "cell_type": "code",
   "execution_count": 9,
   "id": "0714a706",
   "metadata": {},
   "outputs": [],
   "source": [
    "# Фильтрация данных\n",
    "data = data_text.filter(~data_text.value.startswith(\"#\"))\n",
    "\n",
    "# Преобразование данных в DataFrame\n",
    "df = data.selectExpr(\n",
    "    f\"split(value, ',')[0] as {columns[0]}\",\n",
    "    f\"split(value, ',')[1] as {columns[1]}\",\n",
    "    f\"split(value, ',')[2] as {columns[2]}\",\n",
    "    f\"split(value, ',')[3] as {columns[3]}\",\n",
    "    f\"split(value, ',')[4] as {columns[4]}\",\n",
    "    f\"split(value, ',')[5] as {columns[5]}\",\n",
    "    f\"split(value, ',')[6] as {columns[6]}\",\n",
    "    f\"split(value, ',')[7] as {columns[7]}\",\n",
    "    f\"split(value, ',')[8] as {columns[8]}\"\n",
    ")\n",
    "\n",
    "# Преобразование типов данных\n",
    "df = df.withColumn(columns[0], df[columns[0]].cast(IntegerType())) \\\n",
    "       .withColumn(columns[1], df[columns[1]].cast(DateType())) \\\n",
    "       .withColumn(columns[2], df[columns[2]].cast(IntegerType())) \\\n",
    "       .withColumn(columns[3], df[columns[3]].cast(IntegerType())) \\\n",
    "       .withColumn(columns[4], df[columns[4]].cast(FloatType())) \\\n",
    "       .withColumn(columns[5], df[columns[5]].cast(IntegerType())) \\\n",
    "       .withColumn(columns[6], df[columns[6]].cast(IntegerType())) \\\n",
    "       .withColumn(columns[7], df[columns[7]].cast(IntegerType())) \\\n",
    "       .withColumn(columns[8], df[columns[8]].cast(IntegerType())) "
   ]
  },
  {
   "cell_type": "code",
   "execution_count": 10,
   "id": "412302f5",
   "metadata": {},
   "outputs": [
    {
     "name": "stdout",
     "output_type": "stream",
     "text": [
      "+-------------+-----------+-----------+-----------+---------+---------------+------------+--------+-----------------+\n",
      "|tranaction_id|tx_datetime|customer_id|terminal_id|tx_amount|tx_time_seconds|tx_time_days|tx_fraud|tx_fraud_scenario|\n",
      "+-------------+-----------+-----------+-----------+---------+---------------+------------+--------+-----------------+\n",
      "|            0| 2019-08-22|          0|        711|    70.91|          24663|           0|       0|                0|\n",
      "|            1| 2019-08-22|          0|          0|    90.55|          18637|           0|       0|                0|\n",
      "|            2| 2019-08-22|          0|        753|    35.38|          68733|           0|       0|                0|\n",
      "|            3| 2019-08-22|          0|          0|    80.41|          26493|           0|       0|                0|\n",
      "|            4| 2019-08-22|          1|        981|   102.83|          32777|           0|       0|                0|\n",
      "|            5| 2019-08-22|          3|        205|     34.2|          67285|           0|       0|                0|\n",
      "|            6| 2019-08-22|          3|          0|     47.2|          11541|           0|       0|                0|\n",
      "|            7| 2019-08-22|          6|        809|   139.39|          81400|           0|       0|                0|\n",
      "|            8| 2019-08-22|          7|        184|    87.24|          62609|           0|       0|                0|\n",
      "|            9| 2019-08-22|          8|        931|     61.7|          76177|           0|       0|                0|\n",
      "|           10| 2019-08-22|         10|        663|    40.71|          41562|           0|       1|                2|\n",
      "|           11| 2019-08-22|         10|        770|    63.91|          11366|           0|       0|                0|\n",
      "|           12| 2019-08-22|         10|          0|    58.89|          56874|           0|       0|                0|\n",
      "|           13| 2019-08-22|         10|        649|    89.24|          79160|           0|       0|                0|\n",
      "|           14| 2019-08-22|         11|        380|     9.89|          75313|           0|       0|                0|\n",
      "|           15| 2019-08-22|         11|        337|    83.36|          59943|           0|       0|                0|\n",
      "|           16| 2019-08-22|         11|        973|    35.12|          83707|           0|       0|                0|\n",
      "|           17| 2019-08-22|         12|          9|     74.0|          27585|           0|       0|                0|\n",
      "|           18| 2019-08-22|         12|        745|   108.63|          20139|           0|       0|                0|\n",
      "|           19| 2019-08-22|         12|          9|    84.45|          37756|           0|       0|                0|\n",
      "+-------------+-----------+-----------+-----------+---------+---------------+------------+--------+-----------------+\n",
      "only showing top 20 rows\n",
      "\n"
     ]
    }
   ],
   "source": [
    "df.show()"
   ]
  },
  {
   "cell_type": "code",
   "execution_count": 11,
   "id": "c5028ac4",
   "metadata": {},
   "outputs": [
    {
     "name": "stdout",
     "output_type": "stream",
     "text": [
      "            tranaction_id\tint\n",
      "              tx_datetime\tdate\n",
      "              customer_id\tint\n",
      "              terminal_id\tint\n",
      "                tx_amount\tfloat\n",
      "          tx_time_seconds\tint\n",
      "             tx_time_days\tint\n",
      "                 tx_fraud\tint\n",
      "        tx_fraud_scenario\tint\n"
     ]
    }
   ],
   "source": [
    "dt = df.dtypes\n",
    "for r in dt:\n",
    "    print(f\"{r[0]:>25}\\t{r[1]}\")"
   ]
  },
  {
   "cell_type": "code",
   "execution_count": 12,
   "id": "fd45a48d",
   "metadata": {},
   "outputs": [
    {
     "name": "stdout",
     "output_type": "stream",
     "text": [
      "tranaction_id: 0 пропусков, 0.00%\n",
      "tx_datetime: 0 пропусков, 0.00%\n",
      "customer_id: 0 пропусков, 0.00%\n",
      "terminal_id: 36643 пропусков, 0.00%\n",
      "tx_amount: 0 пропусков, 0.00%\n",
      "tx_time_seconds: 0 пропусков, 0.00%\n",
      "tx_time_days: 0 пропусков, 0.00%\n",
      "tx_fraud: 0 пропусков, 0.00%\n",
      "tx_fraud_scenario: 0 пропусков, 0.00%\n"
     ]
    }
   ],
   "source": [
    "# Подсчет пропусков\n",
    "null_counts = df.agg(*[\n",
    "    F.sum(F.col(c).isNull().cast(\"int\")).alias(c) \n",
    "    for c in df.columns\n",
    "]).collect()[0]\n",
    "\n",
    "# Подсчет процента пропусков\n",
    "total_rows = df.count()\n",
    "null_percentages = {col: (null_counts[col] / total_rows * 100) for col in df.columns}\n",
    "\n",
    "# Вывод результатов\n",
    "for col in df.columns:\n",
    "    print(f\"{col}: {null_counts[col]} пропусков, {null_percentages[col]:.2f}%\")"
   ]
  },
  {
   "cell_type": "code",
   "execution_count": 13,
   "id": "20df25d2",
   "metadata": {},
   "outputs": [
    {
     "name": "stdout",
     "output_type": "stream",
     "text": [
      "Всего записей в датачете: 1691815322\n"
     ]
    }
   ],
   "source": [
    "# dataset shape\n",
    "print(\"Всего записей в датачете:\", total_rows)"
   ]
  },
  {
   "cell_type": "code",
   "execution_count": 14,
   "id": "1527db9d",
   "metadata": {},
   "outputs": [],
   "source": [
    "# предобработа данных\n",
    "\n",
    "df = df.withColumn(\"tx_amount\", F.col(\"tx_amount\").cast(FloatType()))\n",
    "df = df.na.drop(\"any\")\n",
    "df = df.withColumnRenamed('tranaction_id', 'transaction_id')\n",
    "df = df.dropDuplicates([\"transaction_id\"])"
   ]
  },
  {
   "cell_type": "code",
   "execution_count": null,
   "id": "3f1c0e1d",
   "metadata": {},
   "outputs": [],
   "source": [
    "# Сохранение данных\n",
    "df.repartition(50).write.parquet(\"s3a://otus-bucket-b1g7tkp18f4l17b9fn7d/data_prepare/cleaned_fraud_dataset.parquet\")\n",
    "\n",
    "# Остановка Spark\n",
    "# spark.stop()"
   ]
  },
  {
   "cell_type": "code",
   "execution_count": null,
   "id": "1bdcc3ed",
   "metadata": {},
   "outputs": [],
   "source": []
  }
 ],
 "metadata": {
  "kernelspec": {
   "display_name": "Python 3",
   "language": "python",
   "name": "python3"
  },
  "language_info": {
   "codemirror_mode": {
    "name": "ipython",
    "version": 3
   },
   "file_extension": ".py",
   "mimetype": "text/x-python",
   "name": "python",
   "nbconvert_exporter": "python",
   "pygments_lexer": "ipython3",
   "version": "3.8.10"
  }
 },
 "nbformat": 4,
 "nbformat_minor": 5
}
